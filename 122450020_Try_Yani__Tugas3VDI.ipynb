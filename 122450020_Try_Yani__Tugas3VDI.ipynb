{
  "nbformat": 4,
  "nbformat_minor": 0,
  "metadata": {
    "colab": {
      "private_outputs": true,
      "provenance": []
    },
    "kernelspec": {
      "name": "python3",
      "display_name": "Python 3"
    },
    "language_info": {
      "name": "python"
    }
  },
  "cells": [
    {
      "cell_type": "code",
      "source": [],
      "metadata": {
        "id": "UvyzV0gzjQio"
      },
      "execution_count": null,
      "outputs": []
    },
    {
      "cell_type": "markdown",
      "source": [
        "Nama : Try Yani Rizki Nur Rohmah\n",
        "NIM : 122450020\n",
        "\n",
        "#Tugas VDI 3 (Data Visualitation Methodologi & Define Purpose and parameters)\n",
        "1.Tentukan data yang akan anda gunakan dalam visualisasi\n",
        "\n",
        "2.Berdasarkan data yang anda pilih tentukan tujuan, user, fungsi dan tone (jika ada) yang sesuai dengan visualisasi yang akan anda buat\n",
        "\n",
        "3.Buatlah visualisasi dengan mengunakan library python seperti matplotlib, seaborn atau tools lain"
      ],
      "metadata": {
        "id": "bgPwqoWYi_P9"
      }
    },
    {
      "cell_type": "code",
      "execution_count": null,
      "metadata": {
        "id": "BMN0j3P_i3R7"
      },
      "outputs": [],
      "source": [
        "# Import library yang diperlukan\n",
        "import pandas as pd\n",
        "import numpy as np\n",
        "import os\n",
        "import matplotlib.pyplot as plt\n",
        "import seaborn as sns"
      ]
    },
    {
      "cell_type": "markdown",
      "source": [
        "1. Dataset yang saya gunakan pada tugas ini ialah Kumpulan data ini berisi hampir 1 Juta ulasan film unik dari 1150 film IMDb dengan genre animasi yang saya dapatkan di kaggle."
      ],
      "metadata": {
        "id": "qelj4kbxjjML"
      }
    },
    {
      "cell_type": "code",
      "source": [
        "# melakukan import dataset\n",
        "df = pd.read_csv('/content/Animation (1).csv')\n",
        "# menampilkan informasi umum dataset\n",
        "print(df.head())\n",
        "print(df.info())\n",
        "df.drop_duplicates(inplace=True)"
      ],
      "metadata": {
        "id": "S-eIsU_5jNqf"
      },
      "execution_count": null,
      "outputs": []
    },
    {
      "cell_type": "markdown",
      "source": [
        "**2. Berdasarkan data yang anda pilih tentukan tujuan, user, fungsi dan tone (jika ada) yang sesuai dengan visualisasi yang akan anda buat**\n",
        "\n",
        "jawab:\n",
        "1. Tujuan saya ialah:\n",
        "  *  Menganalisis tren dengan melihat bagaimana industri animasi berkembang seiring waktu, misalnya dengan melihat jumlah film animasi yang dirilis setiap tahun.\n",
        "  *   Melihat pola dalam genre yang paling populer, studio produksi, atau durasi rata-rata film animasi.\n",
        "  *  Mengevaluasi popularitas jika terdapat data tentang rating atau pendapatan dengan melihat faktor-faktor yang mempengaruhi popularitas suatu animasi.\n",
        "2. User (Pengguna) yang mungkin memanfaatkan visualisasi ini ialah :\n",
        "  *  Analis Industri Animasi: Mereka yang bekerja di industri media atau animasi yang memerlukan data untuk memantau perkembangan atau potensi pasar.\n",
        "  *  Mahasiswa dan Akademisi: Peneliti atau mahasiswa yang mempelajari tren dalam industri animasi untuk tugas atau penelitian.\n",
        "  *  Penonton Umum: Orang yang memiliki ketertarikan pada tren animasi, misalnya untuk melihat film atau genre apa yang sedang populer.\n",
        "3. Fungsi visualisasi ialah untuk menyajikan tren, perbandingan, dan pemahaman data secara efektif. Visualisasi dapat digunakan untuk menampilkan perubahan jumlah produksi animasi dari tahun ke tahun, memungkinkan perbandingan antara berbagai genre, studio, atau film guna mengidentifikasi yang paling populer, serta membantu pengguna memahami distribusi durasi film atau jumlah film per kategori. Dengan demikian, pola atau tren tertentu dalam data menjadi lebih mudah dikenali dan diinterpretasikan.\n",
        "4. Tone visualisasi mengacu pada cara penyampaian informasi melalui visual dan disesuaikan dengan audiens. Untuk analisis formal, visualisasi harus bersifat profesional dan data-driven, dengan grafik yang sederhana, jelas, serta menggunakan skala atau label yang akurat. Jika ditujukan untuk penonton umum atau non-teknis, tone dapat dibuat lebih ringan dan informatif, dengan visual yang menarik menggunakan warna-warna cerah namun tetap mempertahankan kejelasan dan akurasi informasi yang disampaikan."
      ],
      "metadata": {
        "id": "Aa-caqHkm7vs"
      }
    },
    {
      "cell_type": "code",
      "source": [
        "for col in df.select_dtypes(include='object').columns:\n",
        "    df[col] = df[col].astype('category')"
      ],
      "metadata": {
        "id": "Qpehev7Sk_mM"
      },
      "execution_count": null,
      "outputs": []
    },
    {
      "cell_type": "markdown",
      "source": [
        "3.  visualisasi dengan mengunakan library python seperti matplotlib, seaborn atau tools lain"
      ],
      "metadata": {
        "id": "apMnD-vCnj6p"
      }
    },
    {
      "cell_type": "markdown",
      "source": [],
      "metadata": {
        "id": "Ger5XmfLnpmP"
      }
    },
    {
      "cell_type": "code",
      "source": [
        "#Mengecek Outliner dengan boxplot\n",
        "sns.boxplot(x=df['year'])\n",
        "plt.show()"
      ],
      "metadata": {
        "id": "ghYbhGvcmF0A"
      },
      "execution_count": null,
      "outputs": []
    },
    {
      "cell_type": "code",
      "source": [
        "# grafik untuk melihat 10 genre teratas\n",
        "top_genres = df['genres'].value_counts().head(10)\n",
        "\n",
        "plt.figure(figsize=(10,4))\n",
        "sns.barplot(x=top_genres.values, y=top_genres.index, palette='viridis')\n",
        "plt.title('10 Genre Animasi Terpopuler')\n",
        "plt.xlabel('Jumlah Film/Acara')\n",
        "plt.ylabel('Genre')\n",
        "plt.show()\n"
      ],
      "metadata": {
        "id": "r6Z0Q71QnwXS"
      },
      "execution_count": null,
      "outputs": []
    },
    {
      "cell_type": "markdown",
      "source": [
        "Grafik di atas menunjukkan 10 genre animasi yang paling populer berdasarkan jumlah film atau acara yang ada. Genre \"Animasi, Adventure, Comedy\" menempati posisi teratas dengan jumlah terbanyak, diikuti oleh \"Animasi, Action, Adventure\". Genre-genre lainnya seperti \"Animasi, Fantasy\", \"Animasi, Drama\", dan kombinasi genre lainnya juga cukup populer. Grafik ini memberikan gambaran umum tentang preferensi penonton terhadap genre-genre tertentu dalam animasi, di mana kombinasi antara petualangan, komedi, dan aksi menjadi yang paling diminati."
      ],
      "metadata": {
        "id": "u3wiMfkeraEW"
      }
    },
    {
      "cell_type": "code",
      "source": [
        "# Plot tren produksi animasi berdasarkan tahun (misal ada kolom 'year')\n",
        "plt.figure(figsize=(10,3))\n",
        "df.groupby('year').size().plot(kind='line', marker='o')\n",
        "plt.title('Jumlah Produksi Animasi dari Tahun ke Tahun')\n",
        "plt.xlabel('Tahun')\n",
        "plt.ylabel('Jumlah Produksi')\n",
        "plt.grid(True)\n",
        "plt.show()\n"
      ],
      "metadata": {
        "id": "mq_hM3W0oMOp"
      },
      "execution_count": null,
      "outputs": []
    },
    {
      "cell_type": "markdown",
      "source": [
        "Grafik ini menunjukkan adanya peningkatan produksi animasi terutama setelah tahun 1980, dengan beberapa fluktuasi hingga 2020."
      ],
      "metadata": {
        "id": "_i6qKIt_qe7U"
      }
    },
    {
      "cell_type": "code",
      "source": [
        "# Boxplot rating berdasarkan nama film\n",
        "plt.figure(figsize=(10,3))\n",
        "sns.boxplot(x='year', y='rating', data=df)\n",
        "plt.title('Distribusi Rating Berdasarkan Nama Film')\n",
        "plt.xlabel('Name')\n",
        "plt.ylabel('Rating')\n",
        "plt.xticks(rotation=90)\n",
        "plt.show()\n"
      ],
      "metadata": {
        "id": "4Z_VSI51oWWa"
      },
      "execution_count": null,
      "outputs": []
    },
    {
      "cell_type": "markdown",
      "source": [
        "Pada tahun 1995, terdapat variasi besar pada rating film dengan beberapa outliers di bagian bawah, sementara tahun 2008 menunjukkan rating yang lebih rendah dibanding tahun lainnya. Pada 2019, median rating cukup tinggi dengan distribusi yang lebih sempit, menandakan film-film pada tahun tersebut mendapat rating lebih baik dan lebih seragam. Secara keseluruhan, boxplot ini memudahkan perbandingan performa rating film animasi berdasarkan tahun rilis dan memperlihatkan tren atau variasi kualitas animasi dari waktu ke waktu."
      ],
      "metadata": {
        "id": "Z-iadR-7rAtx"
      }
    }
  ]
}